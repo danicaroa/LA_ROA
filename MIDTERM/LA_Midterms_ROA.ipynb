{
 "cells": [
  {
   "cell_type": "markdown",
   "metadata": {},
   "source": [
    "<h1>Linear Algebra (CpE210A)"
   ]
  },
  {
   "cell_type": "markdown",
   "metadata": {},
   "source": [
    "<h3>Midterms Project"
   ]
  },
  {
   "cell_type": "markdown",
   "metadata": {},
   "source": [
    "Coded and submitted by:<br>\n",
    "<i>Roa, Danica Kate I.<br>\n",
    "    201811457<br>\n",
    "58010 </i>"
   ]
  },
  {
   "cell_type": "markdown",
   "metadata": {},
   "source": [
    "Directions\n",
    "This Jupyter Notebook will serve as your base code for your Midterm Project. You must further format and provide complete discussion on the given topic. \n",
    "- Provide all necessary explanations for specific code blocks. \n",
    "- Provide illustrations for key results.\n",
    "- Observe clean code (intuitive variable names, proper commenting, proper code spacing)\n",
    "- Provide a summary discussion at the end\n",
    "\n",
    "Failure to use this format or failure to update the document will be given a deduction equivalent to 50% of the original score. "
   ]
  },
  {
   "cell_type": "markdown",
   "metadata": {},
   "source": [
    "### Case"
   ]
  },
  {
   "cell_type": "markdown",
   "metadata": {},
   "source": [
    "Bebang is back to consult you about her business. Furthering her data analytics initiative she asks you for help to compute some relevant data. Now she is asking you to compute and visualize her sales and costs for the past year. She has given you the datasets attached to her request."
   ]
  },
  {
   "cell_type": "markdown",
   "metadata": {},
   "source": [
    "### Problem"
   ]
  },
  {
   "cell_type": "markdown",
   "metadata": {},
   "source": [
    "State and explain Bebang's problem here and provide the deliverables."
   ]
  },
  {
   "cell_type": "markdown",
   "metadata": {},
   "source": [
    "# Proof of Concept"
   ]
  },
  {
   "cell_type": "markdown",
   "metadata": {},
   "source": [
    "Now that you have a grasp on the requirements we need to start with making a program to prove that her problem is solvable. As a Linear Algebra student, we will be focusin on applying vector operations to meet her needs. First, we need to import her data. We will use the `pandas` library for this. For more information you can look into their documentation [here](https://pandas.pydata.org/)."
   ]
  },
  {
   "cell_type": "code",
   "execution_count": 1,
   "metadata": {},
   "outputs": [
    {
     "data": {
      "text/html": [
       "<div>\n",
       "<style scoped>\n",
       "    .dataframe tbody tr th:only-of-type {\n",
       "        vertical-align: middle;\n",
       "    }\n",
       "\n",
       "    .dataframe tbody tr th {\n",
       "        vertical-align: top;\n",
       "    }\n",
       "\n",
       "    .dataframe thead th {\n",
       "        text-align: right;\n",
       "    }\n",
       "</style>\n",
       "<table border=\"1\" class=\"dataframe\">\n",
       "  <thead>\n",
       "    <tr style=\"text-align: right;\">\n",
       "      <th></th>\n",
       "      <th>red velvet</th>\n",
       "      <th>oreo</th>\n",
       "      <th>sugar glazed</th>\n",
       "      <th>almond honey</th>\n",
       "      <th>matcha</th>\n",
       "      <th>strawberry cream</th>\n",
       "      <th>brown sugar boba</th>\n",
       "      <th>furits and nuts</th>\n",
       "      <th>dark chocolate</th>\n",
       "      <th>chocolate and orange</th>\n",
       "      <th>choco mint</th>\n",
       "      <th>choco butter naught</th>\n",
       "    </tr>\n",
       "  </thead>\n",
       "  <tbody>\n",
       "    <tr>\n",
       "      <th>price per piece</th>\n",
       "      <td>35</td>\n",
       "      <td>25</td>\n",
       "      <td>20</td>\n",
       "      <td>35</td>\n",
       "      <td>50</td>\n",
       "      <td>40</td>\n",
       "      <td>40</td>\n",
       "      <td>45</td>\n",
       "      <td>30</td>\n",
       "      <td>40</td>\n",
       "      <td>45</td>\n",
       "      <td>45</td>\n",
       "    </tr>\n",
       "    <tr>\n",
       "      <th>cost per piece</th>\n",
       "      <td>25</td>\n",
       "      <td>15</td>\n",
       "      <td>10</td>\n",
       "      <td>20</td>\n",
       "      <td>35</td>\n",
       "      <td>31</td>\n",
       "      <td>30</td>\n",
       "      <td>25</td>\n",
       "      <td>15</td>\n",
       "      <td>25</td>\n",
       "      <td>32</td>\n",
       "      <td>31</td>\n",
       "    </tr>\n",
       "  </tbody>\n",
       "</table>\n",
       "</div>"
      ],
      "text/plain": [
       "                 red velvet  oreo  sugar glazed  almond honey  matcha  \\\n",
       "price per piece          35    25            20            35      50   \n",
       "cost per piece           25    15            10            20      35   \n",
       "\n",
       "                 strawberry cream  brown sugar boba  furits and nuts  \\\n",
       "price per piece                40                40               45   \n",
       "cost per piece                 31                30               25   \n",
       "\n",
       "                 dark chocolate  chocolate and orange  choco mint  \\\n",
       "price per piece              30                    40          45   \n",
       "cost per piece               15                    25          32   \n",
       "\n",
       "                 choco butter naught  \n",
       "price per piece                   45  \n",
       "cost per piece                    31  "
      ]
     },
     "execution_count": 1,
     "metadata": {},
     "output_type": "execute_result"
    }
   ],
   "source": [
    "import pandas as pd\n",
    "\n",
    "file_prices = \"bebang prices.csv\"\n",
    "file_sales = \"bebang sales.csv\"\n",
    "\n",
    "df_prices = pd.read_csv(file_prices, index_col=0)\n",
    "df_sales = pd.read_csv(file_sales)\n",
    "\n",
    "\n",
    "## Let's check what's in df_prices\n",
    "df_prices"
   ]
  },
  {
   "cell_type": "code",
   "execution_count": 2,
   "metadata": {},
   "outputs": [
    {
     "data": {
      "text/html": [
       "<div>\n",
       "<style scoped>\n",
       "    .dataframe tbody tr th:only-of-type {\n",
       "        vertical-align: middle;\n",
       "    }\n",
       "\n",
       "    .dataframe tbody tr th {\n",
       "        vertical-align: top;\n",
       "    }\n",
       "\n",
       "    .dataframe thead th {\n",
       "        text-align: right;\n",
       "    }\n",
       "</style>\n",
       "<table border=\"1\" class=\"dataframe\">\n",
       "  <thead>\n",
       "    <tr style=\"text-align: right;\">\n",
       "      <th></th>\n",
       "      <th>flavor</th>\n",
       "      <th>january</th>\n",
       "      <th>february</th>\n",
       "      <th>march</th>\n",
       "      <th>april</th>\n",
       "      <th>may</th>\n",
       "      <th>june</th>\n",
       "      <th>july</th>\n",
       "      <th>august</th>\n",
       "      <th>september</th>\n",
       "      <th>october</th>\n",
       "      <th>november</th>\n",
       "      <th>december</th>\n",
       "    </tr>\n",
       "  </thead>\n",
       "  <tbody>\n",
       "    <tr>\n",
       "      <th>0</th>\n",
       "      <td>red velvet</td>\n",
       "      <td>781</td>\n",
       "      <td>524</td>\n",
       "      <td>364</td>\n",
       "      <td>157</td>\n",
       "      <td>894</td>\n",
       "      <td>56</td>\n",
       "      <td>89</td>\n",
       "      <td>41</td>\n",
       "      <td>23</td>\n",
       "      <td>78</td>\n",
       "      <td>231</td>\n",
       "      <td>899</td>\n",
       "    </tr>\n",
       "    <tr>\n",
       "      <th>1</th>\n",
       "      <td>oreo</td>\n",
       "      <td>210</td>\n",
       "      <td>324</td>\n",
       "      <td>344</td>\n",
       "      <td>32</td>\n",
       "      <td>123</td>\n",
       "      <td>1</td>\n",
       "      <td>3</td>\n",
       "      <td>0</td>\n",
       "      <td>1</td>\n",
       "      <td>6</td>\n",
       "      <td>312</td>\n",
       "      <td>548</td>\n",
       "    </tr>\n",
       "    <tr>\n",
       "      <th>2</th>\n",
       "      <td>sugar glazed</td>\n",
       "      <td>599</td>\n",
       "      <td>674</td>\n",
       "      <td>854</td>\n",
       "      <td>14</td>\n",
       "      <td>467</td>\n",
       "      <td>78</td>\n",
       "      <td>36</td>\n",
       "      <td>48</td>\n",
       "      <td>75</td>\n",
       "      <td>98</td>\n",
       "      <td>781</td>\n",
       "      <td>1602</td>\n",
       "    </tr>\n",
       "    <tr>\n",
       "      <th>3</th>\n",
       "      <td>almond honey</td>\n",
       "      <td>124</td>\n",
       "      <td>112</td>\n",
       "      <td>114</td>\n",
       "      <td>23</td>\n",
       "      <td>198</td>\n",
       "      <td>12</td>\n",
       "      <td>32</td>\n",
       "      <td>41</td>\n",
       "      <td>23</td>\n",
       "      <td>36</td>\n",
       "      <td>300</td>\n",
       "      <td>566</td>\n",
       "    </tr>\n",
       "    <tr>\n",
       "      <th>4</th>\n",
       "      <td>matcha</td>\n",
       "      <td>645</td>\n",
       "      <td>498</td>\n",
       "      <td>885</td>\n",
       "      <td>98</td>\n",
       "      <td>177</td>\n",
       "      <td>98</td>\n",
       "      <td>43</td>\n",
       "      <td>96</td>\n",
       "      <td>26</td>\n",
       "      <td>71</td>\n",
       "      <td>549</td>\n",
       "      <td>897</td>\n",
       "    </tr>\n",
       "    <tr>\n",
       "      <th>5</th>\n",
       "      <td>strawberry cream</td>\n",
       "      <td>210</td>\n",
       "      <td>372</td>\n",
       "      <td>369</td>\n",
       "      <td>78</td>\n",
       "      <td>163</td>\n",
       "      <td>26</td>\n",
       "      <td>45</td>\n",
       "      <td>22</td>\n",
       "      <td>54</td>\n",
       "      <td>41</td>\n",
       "      <td>207</td>\n",
       "      <td>456</td>\n",
       "    </tr>\n",
       "    <tr>\n",
       "      <th>6</th>\n",
       "      <td>brown sugar boba</td>\n",
       "      <td>981</td>\n",
       "      <td>380</td>\n",
       "      <td>154</td>\n",
       "      <td>14</td>\n",
       "      <td>147</td>\n",
       "      <td>15</td>\n",
       "      <td>98</td>\n",
       "      <td>33</td>\n",
       "      <td>23</td>\n",
       "      <td>36</td>\n",
       "      <td>552</td>\n",
       "      <td>633</td>\n",
       "    </tr>\n",
       "    <tr>\n",
       "      <th>7</th>\n",
       "      <td>furits and nuts</td>\n",
       "      <td>478</td>\n",
       "      <td>462</td>\n",
       "      <td>354</td>\n",
       "      <td>49</td>\n",
       "      <td>89</td>\n",
       "      <td>0</td>\n",
       "      <td>1</td>\n",
       "      <td>0</td>\n",
       "      <td>1</td>\n",
       "      <td>8</td>\n",
       "      <td>335</td>\n",
       "      <td>214</td>\n",
       "    </tr>\n",
       "    <tr>\n",
       "      <th>8</th>\n",
       "      <td>dark chocolate</td>\n",
       "      <td>598</td>\n",
       "      <td>203</td>\n",
       "      <td>36</td>\n",
       "      <td>96</td>\n",
       "      <td>789</td>\n",
       "      <td>4</td>\n",
       "      <td>5</td>\n",
       "      <td>0</td>\n",
       "      <td>8</td>\n",
       "      <td>0</td>\n",
       "      <td>789</td>\n",
       "      <td>458</td>\n",
       "    </tr>\n",
       "    <tr>\n",
       "      <th>9</th>\n",
       "      <td>chocolate and orange</td>\n",
       "      <td>324</td>\n",
       "      <td>123</td>\n",
       "      <td>48</td>\n",
       "      <td>32</td>\n",
       "      <td>65</td>\n",
       "      <td>74</td>\n",
       "      <td>78</td>\n",
       "      <td>45</td>\n",
       "      <td>89</td>\n",
       "      <td>100</td>\n",
       "      <td>632</td>\n",
       "      <td>231</td>\n",
       "    </tr>\n",
       "    <tr>\n",
       "      <th>10</th>\n",
       "      <td>choco mint</td>\n",
       "      <td>458</td>\n",
       "      <td>412</td>\n",
       "      <td>78</td>\n",
       "      <td>78</td>\n",
       "      <td>78</td>\n",
       "      <td>7</td>\n",
       "      <td>3</td>\n",
       "      <td>8</td>\n",
       "      <td>2</td>\n",
       "      <td>1</td>\n",
       "      <td>323</td>\n",
       "      <td>564</td>\n",
       "    </tr>\n",
       "    <tr>\n",
       "      <th>11</th>\n",
       "      <td>choco butter naught</td>\n",
       "      <td>778</td>\n",
       "      <td>586</td>\n",
       "      <td>645</td>\n",
       "      <td>100</td>\n",
       "      <td>987</td>\n",
       "      <td>63</td>\n",
       "      <td>36</td>\n",
       "      <td>89</td>\n",
       "      <td>78</td>\n",
       "      <td>99</td>\n",
       "      <td>784</td>\n",
       "      <td>2310</td>\n",
       "    </tr>\n",
       "  </tbody>\n",
       "</table>\n",
       "</div>"
      ],
      "text/plain": [
       "                  flavor  january  february  march  april  may  june  july  \\\n",
       "0             red velvet      781       524    364    157  894    56    89   \n",
       "1                   oreo      210       324    344     32  123     1     3   \n",
       "2           sugar glazed      599       674    854     14  467    78    36   \n",
       "3           almond honey      124       112    114     23  198    12    32   \n",
       "4                 matcha      645       498    885     98  177    98    43   \n",
       "5       strawberry cream      210       372    369     78  163    26    45   \n",
       "6       brown sugar boba      981       380    154     14  147    15    98   \n",
       "7        furits and nuts      478       462    354     49   89     0     1   \n",
       "8         dark chocolate      598       203     36     96  789     4     5   \n",
       "9   chocolate and orange      324       123     48     32   65    74    78   \n",
       "10            choco mint      458       412     78     78   78     7     3   \n",
       "11   choco butter naught      778       586    645    100  987    63    36   \n",
       "\n",
       "    august  september  october  november  december  \n",
       "0       41         23       78       231       899  \n",
       "1        0          1        6       312       548  \n",
       "2       48         75       98       781      1602  \n",
       "3       41         23       36       300       566  \n",
       "4       96         26       71       549       897  \n",
       "5       22         54       41       207       456  \n",
       "6       33         23       36       552       633  \n",
       "7        0          1        8       335       214  \n",
       "8        0          8        0       789       458  \n",
       "9       45         89      100       632       231  \n",
       "10       8          2        1       323       564  \n",
       "11      89         78       99       784      2310  "
      ]
     },
     "execution_count": 2,
     "metadata": {},
     "output_type": "execute_result"
    }
   ],
   "source": [
    "## Let's check the sales dataframe\n",
    "df_sales"
   ]
  },
  {
   "cell_type": "markdown",
   "metadata": {},
   "source": [
    "## Part 1: Monthly Sales"
   ]
  },
  {
   "cell_type": "code",
   "execution_count": 3,
   "metadata": {},
   "outputs": [
    {
     "name": "stdout",
     "output_type": "stream",
     "text": [
      "(12, 12)\n",
      "(12,)\n",
      "(12,)\n"
     ]
    }
   ],
   "source": [
    "import numpy as np\n",
    "### Vectorizing the data\n",
    "\n",
    "sales_mat = np.array(df_sales.set_index('flavor'))\n",
    "prices_mat = np.array(df_prices)[0] ## reshape this vector to the appropriate size\n",
    "costs_mat = np.array(df_prices)[1] ## reshape this vector to the appropriate size\n",
    "\n",
    "\n",
    "## Do not alter these lines\n",
    "print(sales_mat.shape)\n",
    "print(prices_mat.shape)\n",
    "print(costs_mat.shape)\n",
    "# Expected Output\n",
    "# (12, 12)\n",
    "# (12, 1)\n",
    "# (12, 1)"
   ]
  },
  {
   "cell_type": "markdown",
   "metadata": {},
   "source": [
    "#### Formulas"
   ]
  },
  {
   "cell_type": "markdown",
   "metadata": {},
   "source": [
    "Take note that the fomula for revenue is: <br>\n",
    "$revenue = sales * price $ <br>\n",
    "In this case, think that revenue, sales, and price are vectors instead of individual values <br>\n",
    "The formula of cost per item sold is: <br>\n",
    "$cost_{sold} = sales * cost$ <br>\n",
    "The formula for profit is: <br>\n",
    "$profit = revenue - cost_{sold}$ <br>\n",
    "Solving for the monthly profit will be the sum of all profits made on that month."
   ]
  },
  {
   "cell_type": "code",
   "execution_count": 4,
   "metadata": {},
   "outputs": [],
   "source": [
    "#Create a function that *returns* and prints the monthly sales and profit for each month \n",
    "def monthly_sales(price, cost, sales):\n",
    "    monthly_revenue = sales * price \n",
    "    monthly_costs = sales * cost\n",
    "    monthly_profits = monthly_revenue - monthly_costs\n",
    "    return monthly_revenue.flatten(), monthly_costs.flatten(), monthly_profits.flatten()"
   ]
  },
  {
   "cell_type": "code",
   "execution_count": 5,
   "metadata": {},
   "outputs": [
    {
     "name": "stdout",
     "output_type": "stream",
     "text": [
      "Monthly Revenue: \n",
      " [ 27335  13100   7280   5495  44700   2240   3560   1845    690   3120\n",
      "  10395  40455   7350   8100   6880   1120   6150     40    120      0\n",
      "     30    240  14040  24660  20965  16850  17080    490  23350   3120\n",
      "   1440   2160   2250   3920  35145  72090   4340   2800   2280    805\n",
      "   9900    480   1280   1845    690   1440  13500  25470  22575  12450\n",
      "  17700   3430   8850   3920   1720   4320    780   2840  24705  40365\n",
      "   7350   9300   7380   2730   8150   1040   1800    990   1620   1640\n",
      "   9315  20520  34335   9500   3080    490   7350    600   3920   1485\n",
      "    690   1440  24840  28485  16730  11550   7080   1715   4450      0\n",
      "     40      0     30    320  15075   9630  20930   5075    720   3360\n",
      "  39450    160    200      0    240      0  35505  20610  11340   3075\n",
      "    960   1120   3250   2960   3120   2025   2670   4000  28440  10395\n",
      "  16030  10300   1560   2730   3900    280    120    360     60     40\n",
      "  14535  25380  27230  14650  12900   3500  49350   2520   1440   4005\n",
      "   2340   3960  35280 103950]\n",
      "Monthly Cost: \n",
      " [19525  7860  3640  3140 31290  1736  2670  1025   345  1950  7392 27869\n",
      "  5250  4860  3440   640  4305    31    90     0    15   150  9984 16988\n",
      " 14975 10110  8540   280 16345  2418  1080  1200  1125  2450 24992 49662\n",
      "  3100  1680  1140   460  6930   372   960  1025   345   900  9600 17546\n",
      " 16125  7470  8850  1960  6195  3038  1290  2400   390  1775 17568 27807\n",
      "  5250  5580  3690  1560  5705   806  1350   550   810  1025  6624 14136\n",
      " 24525  5700  1540   280  5145   465  2940   825   345   900 17664 19623\n",
      " 11950  6930  3540   980  3115     0    30     0    15   200 10720  6634\n",
      " 14950  3045   360  1920 27615   124   150     0   120     0 25248 14198\n",
      "  8100  1845   480   640  2275  2294  2340  1125  1335  2500 20224  7161\n",
      " 11450  6180   780  1560  2730   217    90   200    30    25 10336 17484\n",
      " 19450  8790  6450  2000 34545  1953  1080  2225  1170  2475 25088 71610]\n",
      "Monthly Profit \n",
      " [ 7810  5240  3640  2355 13410   504   890   820   345  1170  3003 12586\n",
      "  2100  3240  3440   480  1845     9    30     0    15    90  4056  7672\n",
      "  5990  6740  8540   210  7005   702   360   960  1125  1470 10153 22428\n",
      "  1240  1120  1140   345  2970   108   320   820   345   540  3900  7924\n",
      "  6450  4980  8850  1470  2655   882   430  1920   390  1065  7137 12558\n",
      "  2100  3720  3690  1170  2445   234   450   440   810   615  2691  6384\n",
      "  9810  3800  1540   210  2205   135   980   660   345   540  7176  8862\n",
      "  4780  4620  3540   735  1335     0    10     0    15   120  4355  2996\n",
      "  5980  2030   360  1440 11835    36    50     0   120     0 10257  6412\n",
      "  3240  1230   480   480   975   666   780   900  1335  1500  8216  3234\n",
      "  4580  4120   780  1170  1170    63    30   160    30    15  4199  7896\n",
      "  7780  5860  6450  1500 14805   567   360  1780  1170  1485 10192 32340]\n"
     ]
    }
   ],
   "source": [
    "### Do not alter this cell\n",
    "month_rev, month_cost, month_profit = monthly_sales(prices_mat, costs_mat, sales_mat)\n",
    "print(f'Monthly Revenue: \\n {month_rev}')\n",
    "print(f'Monthly Cost: \\n {month_cost}')\n",
    "print(f'Monthly Profit \\n {month_profit}')"
   ]
  },
  {
   "cell_type": "markdown",
   "metadata": {},
   "source": [
    "## Part 2: Flavor Sales"
   ]
  },
  {
   "cell_type": "code",
   "execution_count": 6,
   "metadata": {},
   "outputs": [],
   "source": [
    "#Create a function that *returns* and prints the flavor profits for the whole year \n",
    "def flavor_sales(price, cost, sales):\n",
    "    flavor_revenue = sales * price\n",
    "    flavor_costs = sales * cost\n",
    "    flavor_profits = flavor_revenue - flavor_costs \n",
    "    return flavor_profits.flatten()"
   ]
  },
  {
   "cell_type": "code",
   "execution_count": 7,
   "metadata": {},
   "outputs": [
    {
     "name": "stdout",
     "output_type": "stream",
     "text": [
      "Profits of Flavors:\n",
      "[ 7810  5240  3640  2355 13410   504   890   820   345  1170  3003 12586\n",
      "  2100  3240  3440   480  1845     9    30     0    15    90  4056  7672\n",
      "  5990  6740  8540   210  7005   702   360   960  1125  1470 10153 22428\n",
      "  1240  1120  1140   345  2970   108   320   820   345   540  3900  7924\n",
      "  6450  4980  8850  1470  2655   882   430  1920   390  1065  7137 12558\n",
      "  2100  3720  3690  1170  2445   234   450   440   810   615  2691  6384\n",
      "  9810  3800  1540   210  2205   135   980   660   345   540  7176  8862\n",
      "  4780  4620  3540   735  1335     0    10     0    15   120  4355  2996\n",
      "  5980  2030   360  1440 11835    36    50     0   120     0 10257  6412\n",
      "  3240  1230   480   480   975   666   780   900  1335  1500  8216  3234\n",
      "  4580  4120   780  1170  1170    63    30   160    30    15  4199  7896\n",
      "  7780  5860  6450  1500 14805   567   360  1780  1170  1485 10192 32340]\n"
     ]
    }
   ],
   "source": [
    "### Do not alter this cell\n",
    "flavor_profit = flavor_sales(prices_mat, costs_mat, sales_mat)\n",
    "print(f'Profits of Flavors:\\n{flavor_profit}')"
   ]
  },
  {
   "cell_type": "code",
   "execution_count": 8,
   "metadata": {},
   "outputs": [
    {
     "name": "stdout",
     "output_type": "stream",
     "text": [
      "The best 3 flavors are : [(13410, 'matcha'), (12586, 'choco butter naught'), (7810, 'red velvet')]\n",
      "The 3 worst flavors are: [(345, 'dark chocolate'), (504, 'strawberry cream'), (820, 'furits and nuts')]\n"
     ]
    }
   ],
   "source": [
    "flavors=[\"red velvet\",\"oreo\",\"sugar glazed\",\"almond honey\",\"matcha\",\"strawberry cream\",\"brown sugar boba\",\n",
    "         \"furits and nuts\",\"dark chocolate\",\"chocolate and orange\",\"choco mint\",\"choco butter naught\"]\n",
    "\n",
    "best_3_flavors = sorted(zip(flavor_profit,flavors),reverse = True)[0:3] ## This would sort out the best flavor base on their profit\n",
    "print(\"The best 3 flavors are :\", best_3_flavors)\n",
    "worst_3_flavors = sorted(zip(flavor_profit,flavors))[0:3] ## This would sort out the worst flavor base on their profit\n",
    "print(\"The 3 worst flavors are:\", worst_3_flavors)"
   ]
  },
  {
   "cell_type": "markdown",
   "metadata": {},
   "source": [
    "## Part 3: Visualizing the Data (Optional for +40%)\n",
    "You can try to visualize the data in the most comprehensible chart that you can use."
   ]
  },
  {
   "cell_type": "code",
   "execution_count": 9,
   "metadata": {},
   "outputs": [],
   "source": [
    "import matplotlib.pyplot as plt\n",
    "import matplotlib\n",
    "import seaborn as sns\n",
    "\n",
    "%matplotlib inline"
   ]
  },
  {
   "cell_type": "markdown",
   "metadata": {},
   "source": [
    "#### Entire Dataset"
   ]
  },
  {
   "cell_type": "code",
   "execution_count": 10,
   "metadata": {},
   "outputs": [
    {
     "data": {
      "image/png": "[encoded data removed]",
      "text/plain": [
       "<Figure size 1440x288 with 1 Axes>"
      ]
     },
     "metadata": {
      "needs_background": "light"
     },
     "output_type": "display_data"
    }
   ],
   "source": [
    "sns.catplot(x='flavor',y =\"january\",\n",
    "                data = df_sales, palette = 'Set2', kind =\"bar\",\n",
    "                height = 4, aspect = 5);"
   ]
  },
  {
   "cell_type": "code",
   "execution_count": 11,
   "metadata": {},
   "outputs": [
    {
     "data": {
      "image/png": "[encoded data removed]",
      "text/plain": [
       "<Figure size 1440x288 with 1 Axes>"
      ]
     },
     "metadata": {
      "needs_background": "light"
     },
     "output_type": "display_data"
    }
   ],
   "source": [
    "sns.catplot(x='flavor',y =\"february\",\n",
    "                data = df_sales, palette = 'Set2', kind =\"bar\",\n",
    "                height = 4, aspect = 5);"
   ]
  },
  {
   "cell_type": "code",
   "execution_count": 12,
   "metadata": {},
   "outputs": [
    {
     "data": {
      "image/png": "[encoded data removed]",
      "text/plain": [
       "<Figure size 1440x288 with 1 Axes>"
      ]
     },
     "metadata": {
      "needs_background": "light"
     },
     "output_type": "display_data"
    }
   ],
   "source": [
    "sns.catplot(x='flavor',y =\"march\",\n",
    "                data = df_sales, palette = 'Set2', kind =\"bar\",\n",
    "                height = 4, aspect = 5);"
   ]
  },
  {
   "cell_type": "code",
   "execution_count": 13,
   "metadata": {},
   "outputs": [
    {
     "data": {
      "image/png": "[encoded data removed]",
      "text/plain": [
       "<Figure size 1440x288 with 1 Axes>"
      ]
     },
     "metadata": {
      "needs_background": "light"
     },
     "output_type": "display_data"
    }
   ],
   "source": [
    "sns.catplot(x='flavor',y =\"april\",\n",
    "                data = df_sales, palette = 'Set2', kind =\"bar\",\n",
    "                height = 4, aspect = 5);"
   ]
  },
  {
   "cell_type": "code",
   "execution_count": 14,
   "metadata": {},
   "outputs": [
    {
     "data": {
      "image/png": "[encoded data removed]",
      "text/plain": [
       "<Figure size 1440x288 with 1 Axes>"
      ]
     },
     "metadata": {
      "needs_background": "light"
     },
     "output_type": "display_data"
    }
   ],
   "source": [
    "sns.catplot(x='flavor',y =\"may\",\n",
    "                data = df_sales, palette = 'Set2', kind =\"bar\",\n",
    "                height = 4, aspect = 5);"
   ]
  },
  {
   "cell_type": "code",
   "execution_count": 15,
   "metadata": {},
   "outputs": [
    {
     "data": {
      "image/png": "[encoded data removed]",
      "text/plain": [
       "<Figure size 1440x288 with 1 Axes>"
      ]
     },
     "metadata": {
      "needs_background": "light"
     },
     "output_type": "display_data"
    }
   ],
   "source": [
    "sns.catplot(x='flavor',y =\"june\",\n",
    "                data = df_sales, palette = 'Set2', kind =\"bar\",\n",
    "                height = 4, aspect = 5);"
   ]
  },
  {
   "cell_type": "code",
   "execution_count": 16,
   "metadata": {},
   "outputs": [
    {
     "data": {
      "image/png": "[encoded data removed]",
      "text/plain": [
       "<Figure size 1440x288 with 1 Axes>"
      ]
     },
     "metadata": {
      "needs_background": "light"
     },
     "output_type": "display_data"
    }
   ],
   "source": [
    "sns.catplot(x='flavor',y =\"july\",\n",
    "                data = df_sales, palette = 'Set2', kind =\"bar\",\n",
    "                height = 4, aspect = 5);"
   ]
  },
  {
   "cell_type": "code",
   "execution_count": 17,
   "metadata": {},
   "outputs": [
    {
     "data": {
      "image/png": "[encoded data removed]",
      "text/plain": [
       "<Figure size 1440x288 with 1 Axes>"
      ]
     },
     "metadata": {
      "needs_background": "light"
     },
     "output_type": "display_data"
    }
   ],
   "source": [
    "sns.catplot(x='flavor',y ='august',\n",
    "                data = df_sales, palette = 'Set2', kind =\"bar\",\n",
    "                height = 4, aspect = 5);"
   ]
  },
  {
   "cell_type": "code",
   "execution_count": 18,
   "metadata": {},
   "outputs": [
    {
     "data": {
      "image/png": "[encoded data removed]",
      "text/plain": [
       "<Figure size 1440x288 with 1 Axes>"
      ]
     },
     "metadata": {
      "needs_background": "light"
     },
     "output_type": "display_data"
    }
   ],
   "source": [
    "sns.catplot(x='flavor',y =\"september\",\n",
    "                data = df_sales, palette = 'Set2', kind =\"bar\",\n",
    "                height = 4, aspect = 5);"
   ]
  },
  {
   "cell_type": "code",
   "execution_count": 19,
   "metadata": {},
   "outputs": [
    {
     "data": {
      "image/png": "[encoded data removed]",
      "text/plain": [
       "<Figure size 1440x288 with 1 Axes>"
      ]
     },
     "metadata": {
      "needs_background": "light"
     },
     "output_type": "display_data"
    }
   ],
   "source": [
    "sns.catplot(x='flavor',y =\"october\",\n",
    "                data = df_sales, palette = 'Set2', kind =\"bar\",\n",
    "                height = 4, aspect = 5);"
   ]
  },
  {
   "cell_type": "code",
   "execution_count": 20,
   "metadata": {},
   "outputs": [
    {
     "data": {
      "image/png": "[encoded data removed]",
      "text/plain": [
       "<Figure size 1440x288 with 1 Axes>"
      ]
     },
     "metadata": {
      "needs_background": "light"
     },
     "output_type": "display_data"
    }
   ],
   "source": [
    "sns.catplot(x='flavor',y =\"november\",\n",
    "                data = df_sales, palette = 'Set2', kind =\"bar\",\n",
    "                height = 4, aspect = 5);"
   ]
  },
  {
   "cell_type": "code",
   "execution_count": 21,
   "metadata": {},
   "outputs": [
    {
     "data": {
      "image/png": "[encoded data removed]",
      "text/plain": [
       "<Figure size 1440x288 with 1 Axes>"
      ]
     },
     "metadata": {
      "needs_background": "light"
     },
     "output_type": "display_data"
    }
   ],
   "source": [
    "sns.catplot(x='flavor',y =\"december\",\n",
    "                data = df_sales, palette = 'Set2', kind =\"bar\",\n",
    "                height = 4, aspect = 5);"
   ]
  },
  {
   "cell_type": "markdown",
   "metadata": {},
   "source": [
    "#### Monthly Sales"
   ]
  },
  {
   "cell_type": "code",
   "execution_count": 23,
   "metadata": {},
   "outputs": [
    {
     "ename": "NameError",
     "evalue": "name 'monthly_sale' is not defined",
     "output_type": "error",
     "traceback": [
      "\u001b[1;31m---------------------------------------------------------------------------\u001b[0m",
      "\u001b[1;31mNameError\u001b[0m                                 Traceback (most recent call last)",
      "\u001b[1;32m<ipython-input-23-ac6dd719fa85>\u001b[0m in \u001b[0;36m<module>\u001b[1;34m\u001b[0m\n\u001b[0;32m      1\u001b[0m \u001b[0msns\u001b[0m\u001b[1;33m.\u001b[0m\u001b[0mset\u001b[0m\u001b[1;33m(\u001b[0m\u001b[0mrc\u001b[0m\u001b[1;33m=\u001b[0m\u001b[1;33m{\u001b[0m\u001b[1;34m'figure.figsize'\u001b[0m\u001b[1;33m:\u001b[0m\u001b[1;33m(\u001b[0m\u001b[1;36m20\u001b[0m\u001b[1;33m,\u001b[0m\u001b[1;36m5\u001b[0m\u001b[1;33m)\u001b[0m\u001b[1;33m}\u001b[0m\u001b[1;33m)\u001b[0m\u001b[1;33m\u001b[0m\u001b[1;33m\u001b[0m\u001b[0m\n\u001b[1;32m----> 2\u001b[1;33m \u001b[0msns\u001b[0m\u001b[1;33m.\u001b[0m\u001b[0mbarplot\u001b[0m\u001b[1;33m(\u001b[0m\u001b[1;34m\"month\"\u001b[0m\u001b[1;33m,\u001b[0m\u001b[1;34m\"sales\"\u001b[0m\u001b[1;33m,\u001b[0m \u001b[0mdata\u001b[0m\u001b[1;33m=\u001b[0m\u001b[0mmonthly_sale\u001b[0m\u001b[1;33m,\u001b[0m\u001b[0mpalette\u001b[0m\u001b[1;33m=\u001b[0m\u001b[1;34m'Set1'\u001b[0m\u001b[1;33m)\u001b[0m\u001b[1;33m\u001b[0m\u001b[1;33m\u001b[0m\u001b[0m\n\u001b[0m",
      "\u001b[1;31mNameError\u001b[0m: name 'monthly_sale' is not defined"
     ]
    }
   ],
   "source": [
    "sns.set(rc={'figure.figsize':(20,5)})\n",
    "sns.barplot(\"month\",\"sales\", data=monthly_sale,palette='Set1')"
   ]
  },
  {
   "cell_type": "code",
   "execution_count": null,
   "metadata": {},
   "outputs": [],
   "source": [
    "sns.catplot(x = 'Total Sales Per Month', y = 'Total Profit Per Month',\n",
    "                data = df_profit_sales_per_month, palette = 'Set2', kind =\"bar\",\n",
    "                height = 4, aspect = 4);"
   ]
  },
  {
   "cell_type": "markdown",
   "metadata": {},
   "source": [
    "#### Flavor Sales"
   ]
  },
  {
   "cell_type": "code",
   "execution_count": null,
   "metadata": {},
   "outputs": [],
   "source": [
    "bebang_flavors_sales = ('/content/bebang_flavors_profit.csv')\n",
    "df_profit_per_flavor = pd.read_csv(bebang_flavors_sales)"
   ]
  },
  {
   "cell_type": "code",
   "execution_count": null,
   "metadata": {},
   "outputs": [],
   "source": [
    "sns.catplot(x = 'Flavors', y = 'Total Profit Per Flavor',\n",
    "                data = df_profit_per_flavor, palette = 'Set2', kind =\"bar\",\n",
    "                height = 4, aspect=5);"
   ]
  },
  {
   "cell_type": "markdown",
   "metadata": {},
   "source": [
    "## Part 4: Business Recommendation and Conclusion\n",
    "Present the findings of your data analysis and provide recommendations"
   ]
  },
  {
   "cell_type": "markdown",
   "metadata": {},
   "source": [
    "Add your statement here"
   ]
  }
 ],
 "metadata": {
  "kernelspec": {
   "display_name": "Python 3",
   "language": "python",
   "name": "python3"
  },
  "language_info": {
   "codemirror_mode": {
    "name": "ipython",
    "version": 3
   },
   "file_extension": ".py",
   "mimetype": "text/x-python",
   "name": "python",
   "nbconvert_exporter": "python",
   "pygments_lexer": "ipython3",
   "version": "3.8.3"
  }
 },
 "nbformat": 4,
 "nbformat_minor": 4
}
