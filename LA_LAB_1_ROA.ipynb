{
 "cells": [
  {
   "cell_type": "markdown",
   "metadata": {},
   "source": [
    "# Linear Algebra (CpE210A)\n",
    "\n",
    "**Laboratory 1: Getting Acquainted with Python**\n",
    "\n",
    "*Coded and submitted by:*<br>\n",
    "*Roa, Danica Kate I.*<br>\n",
    "*58010*<br>\n",
    "\n",
    "**Lab Exercises:**"
   ]
  },
  {
   "cell_type": "code",
   "execution_count": 13,
   "metadata": {},
   "outputs": [],
   "source": [
    "party = ['Charmander', 'Pidgey', 'Sandshrew', 'Rattata', 'Abra']; levels = [15, 11, 18, 5, 14] "
   ]
  },
  {
   "cell_type": "code",
   "execution_count": 7,
   "metadata": {},
   "outputs": [
    {
     "name": "stdout",
     "output_type": "stream",
     "text": [
      "Charmander at level 15\n",
      "Pidgey at level 11\n",
      "Sandshrew at level 18\n",
      "Rattata at level 5\n",
      "Abra at level 14\n"
     ]
    }
   ],
   "source": [
    "for pokemon,level in zip(party, levels): print(pokemon, \"at level\", level)"
   ]
  },
  {
   "cell_type": "code",
   "execution_count": 14,
   "metadata": {},
   "outputs": [],
   "source": [
    "reserves = [('Onix',10),('Slowpoke',18),('Dialga', 2),('Feebas', 32),('Magikarp', 22),('Swablu', 19),('Regigigas', 3), ('Unown', 50)]"
   ]
  },
  {
   "cell_type": "code",
   "execution_count": 15,
   "metadata": {},
   "outputs": [
    {
     "name": "stdout",
     "output_type": "stream",
     "text": [
      "['Unown', 'Feebas', 'Magikarp']\n"
     ]
    }
   ],
   "source": [
    "reserves.sort(reverse=True, key=lambda level: level[1]);  picks = [pick[0] for pick in reserves[:3]];  print(picks)"
   ]
  },
  {
   "cell_type": "code",
   "execution_count": 21,
   "metadata": {},
   "outputs": [],
   "source": [
    "def create_party(party,candidates):        \n",
    "    suggested_parties = party; suggested_parties.append(candidates[0]);print(suggested_parties)                \n",
    "    suggested_parties.pop(); suggested_parties.append(candidates[1]);print(suggested_parties)                \n",
    "    suggested_parties.pop();suggested_parties.append(candidates[2]);return suggested_parties                "
   ]
  },
  {
   "cell_type": "code",
   "execution_count": 18,
   "metadata": {},
   "outputs": [
    {
     "name": "stdout",
     "output_type": "stream",
     "text": [
      "['Charmander', 'Pidgey', 'Sandshrew', 'Rattata', 'Abra', 'Unown']\n",
      "['Charmander', 'Pidgey', 'Sandshrew', 'Rattata', 'Abra', 'Feebas']\n"
     ]
    },
    {
     "data": {
      "text/plain": [
       "['Charmander', 'Pidgey', 'Sandshrew', 'Rattata', 'Abra', 'Magikarp']"
      ]
     },
     "execution_count": 18,
     "metadata": {},
     "output_type": "execute_result"
    }
   ],
   "source": [
    "create_party(party,picks)"
   ]
  },
  {
   "cell_type": "code",
   "execution_count": null,
   "metadata": {},
   "outputs": [],
   "source": []
  }
 ],
 "metadata": {
  "kernelspec": {
   "display_name": "Python 3",
   "language": "python",
   "name": "python3"
  },
  "language_info": {
   "codemirror_mode": {
    "name": "ipython",
    "version": 3
   },
   "file_extension": ".py",
   "mimetype": "text/x-python",
   "name": "python",
   "nbconvert_exporter": "python",
   "pygments_lexer": "ipython3",
   "version": "3.8.3"
  }
 },
 "nbformat": 4,
 "nbformat_minor": 4
}
