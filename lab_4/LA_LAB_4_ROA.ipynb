{
 "cells": [
  {
   "cell_type": "markdown",
   "metadata": {},
   "source": [
    "# Linear Algebra for CpE\n",
    "## Laboratory 4 : Vector Operations\n",
    "\n",
    "*Coded and submitted by:*<br>\n",
    "*Roa, Danica Kate I.*<br>\n",
    "*58010*<br>\n"
   ]
  },
  {
   "cell_type": "markdown",
   "metadata": {},
   "source": [
    "Now that you have a fundamental knowledge about linear combination, we'll try to apply the fundamental operations"
   ]
  },
  {
   "cell_type": "markdown",
   "metadata": {},
   "source": [
    "### Objectives\n",
    "At the end of this activity you will be able to:\n",
    "1. Referesh knowledge on vector operations while being familiar with new operations such as products.\n",
    "2. Visualize vector operations.\n",
    "3. Perform vector operations using Python."
   ]
  },
  {
   "cell_type": "markdown",
   "metadata": {},
   "source": [
    "## Discussion"
   ]
  },
  {
   "cell_type": "code",
   "execution_count": 4,
   "metadata": {},
   "outputs": [],
   "source": [
    "import numpy as np\n",
    "import matplotlib.pyplot as plt\n",
    "%matplotlib inline"
   ]
  },
  {
   "cell_type": "markdown",
   "metadata": {},
   "source": [
    "We have dealt with some of the vector operations in the last module, now we will dwell into more operations. In this laboratory, we will tackle addition,multiplication,division and the inner product of a vector."
   ]
  },
  {
   "cell_type": "markdown",
   "metadata": {},
   "source": [
    "## Vector Addition"
   ]
  },
  {
   "cell_type": "markdown",
   "metadata": {},
   "source": [
    "We have encountered vector before especially with your last activity. Vector addition is simply the element-wise addition of the scalar values of the vectors. Let's take the following vectors as a sample:\n",
    "\n",
    "$$A = \\begin{bmatrix}1\\\\2\\\\0\\end{bmatrix}, B= \\begin{bmatrix}3\\\\1\\\\-2 \\end{bmatrix}$$\n",
    "\n",
    "So if do a vector addition of these two vectors we'll get:\n",
    "\n",
    "$$A + B = \\begin{bmatrix}4\\\\3\\\\-2\\end{bmatrix}$$\n",
    "\n",
    "We can progammatically solve this using `np.add()` or simply using `+`."
   ]
  },
  {
   "cell_type": "code",
   "execution_count": 5,
   "metadata": {},
   "outputs": [],
   "source": [
    "A = np.array([1,2,0])\n",
    "B = np.array([3,1,-2])"
   ]
  },
  {
   "cell_type": "code",
   "execution_count": 6,
   "metadata": {},
   "outputs": [
    {
     "data": {
      "text/plain": [
       "array([ 4,  3, -2])"
      ]
     },
     "execution_count": 6,
     "metadata": {},
     "output_type": "execute_result"
    }
   ],
   "source": [
    "A+B"
   ]
  },
  {
   "cell_type": "code",
   "execution_count": 7,
   "metadata": {},
   "outputs": [
    {
     "data": {
      "text/plain": [
       "array([ 4,  3, -2])"
      ]
     },
     "execution_count": 7,
     "metadata": {},
     "output_type": "execute_result"
    }
   ],
   "source": [
    "np.add(A,B)"
   ]
  },
  {
   "cell_type": "markdown",
   "metadata": {},
   "source": [
    "## Vector Subtraction"
   ]
  },
  {
   "cell_type": "markdown",
   "metadata": {},
   "source": [
    "Vector subtraction is similar to your vector addition but you would need to scale the second vector using a negative scalar that is usuall $-1$. So if we subtract vector $B$ from vector $A$ we get:\n",
    "\n",
    "$$A-B = \\begin{bmatrix}-2\\\\1\\\\2\\end{bmatrix}$$\n",
    "\n",
    "In Python, this can be achieved by using `np.subtract()` or `-`"
   ]
  },
  {
   "cell_type": "code",
   "execution_count": 8,
   "metadata": {},
   "outputs": [
    {
     "data": {
      "text/plain": [
       "array([-2,  1,  2])"
      ]
     },
     "execution_count": 8,
     "metadata": {},
     "output_type": "execute_result"
    }
   ],
   "source": [
    "np.subtract(A,B)"
   ]
  },
  {
   "cell_type": "code",
   "execution_count": 9,
   "metadata": {},
   "outputs": [
    {
     "data": {
      "text/plain": [
       "array([-2,  1,  2])"
      ]
     },
     "execution_count": 9,
     "metadata": {},
     "output_type": "execute_result"
    }
   ],
   "source": [
    "A-B"
   ]
  },
  {
   "cell_type": "markdown",
   "metadata": {},
   "source": [
    "## Vector Multiplication"
   ]
  },
  {
   "cell_type": "markdown",
   "metadata": {},
   "source": [
    "Vector multiplication, like addition does its operations element-wise. So basic vector multiplication can be achieved by multiplying the elements or the scalars of the vectors individually. So:\n",
    "$$A * B = \\begin{bmatrix}3\\\\2\\\\0\\end{bmatrix}$$\n",
    "We can implement this in code by using `np.multiply()` or simply operating with `*`."
   ]
  },
  {
   "cell_type": "code",
   "execution_count": 10,
   "metadata": {},
   "outputs": [
    {
     "data": {
      "text/plain": [
       "array([3, 2, 0])"
      ]
     },
     "execution_count": 10,
     "metadata": {},
     "output_type": "execute_result"
    }
   ],
   "source": [
    "np.multiply(A,B)"
   ]
  },
  {
   "cell_type": "code",
   "execution_count": 11,
   "metadata": {},
   "outputs": [
    {
     "data": {
      "text/plain": [
       "array([3, 2, 0])"
      ]
     },
     "execution_count": 11,
     "metadata": {},
     "output_type": "execute_result"
    }
   ],
   "source": [
    "A*B"
   ]
  },
  {
   "cell_type": "markdown",
   "metadata": {},
   "source": [
    "## Vector Division"
   ]
  },
  {
   "cell_type": "markdown",
   "metadata": {},
   "source": [
    "Dividing a vector by another is uncommon, but if the situation specifies that each elements or scalars of the vector would be divided individually we can perform this by:\n",
    "$$A./B = \\begin{bmatrix}\\frac{1}{3}\\\\2\\\\0\\end{bmatrix}$$\n",
    "Take note that the notation we used here is $./$ for element-wise division, this notation is based in a MATLab notation for element-wise division. This can be achieved in Python using `np.divide()` or `/`."
   ]
  },
  {
   "cell_type": "code",
   "execution_count": 12,
   "metadata": {},
   "outputs": [
    {
     "data": {
      "text/plain": [
       "array([ 0.33333333,  2.        , -0.        ])"
      ]
     },
     "execution_count": 12,
     "metadata": {},
     "output_type": "execute_result"
    }
   ],
   "source": [
    "np.divide(A,B)"
   ]
  },
  {
   "cell_type": "code",
   "execution_count": 13,
   "metadata": {},
   "outputs": [
    {
     "data": {
      "text/plain": [
       "array([ 0.33333333,  2.        , -0.        ])"
      ]
     },
     "execution_count": 13,
     "metadata": {},
     "output_type": "execute_result"
    }
   ],
   "source": [
    "A/B"
   ]
  },
  {
   "cell_type": "markdown",
   "metadata": {},
   "source": [
    "## Modulus of a Vector"
   ]
  },
  {
   "cell_type": "markdown",
   "metadata": {},
   "source": [
    "The modulus of a vector or the magnitude of a vector can be determined using the Pythagorean theorem. Given the vector $A$ and its scalars denoted as $a_n$ where $n$ is the index of the scalar. So if we have:\n",
    "$$A = \\begin{bmatrix}1\\\\2\\end{bmatrix}$$\n",
    "We can compute the magnitude as:\n",
    "$$||A|| = \\sqrt{a_1^2 + a_2^2} = \\sqrt{1^2 + 2^2} = \\sqrt{5}$$\n",
    "So if we have a matrix with more parameters such as:\n",
    "$$B=\\begin{bmatrix}2\\\\5\\\\-1\\\\0\\end{bmatrix}$$\n",
    "We can generalize the Pythagorean theorem to compute for the magnitude as:\n",
    "$$||B|| = \\sqrt{b_1^2 + b_2^2 + b_3^2 + ... +b_n^2} = \\sqrt{\\sum_{n=1}^{N}b_n^2}$$\n",
    "And this equation is now called a Euclidian distance or the Euclidean Norm. We can implement this explicitly by for loops or using `np.linalg.norm()` to get the Euclidian Norm."
   ]
  },
  {
   "cell_type": "code",
   "execution_count": 14,
   "metadata": {},
   "outputs": [],
   "source": [
    "A = np.array([1,2])\n",
    "B = np.array([2,5,-1,0])"
   ]
  },
  {
   "cell_type": "code",
   "execution_count": 15,
   "metadata": {},
   "outputs": [
    {
     "data": {
      "text/plain": [
       "2.23606797749979"
      ]
     },
     "execution_count": 15,
     "metadata": {},
     "output_type": "execute_result"
    }
   ],
   "source": [
    "np.linalg.norm(A)"
   ]
  },
  {
   "cell_type": "code",
   "execution_count": 16,
   "metadata": {},
   "outputs": [
    {
     "data": {
      "text/plain": [
       "5.477225575051661"
      ]
     },
     "execution_count": 16,
     "metadata": {},
     "output_type": "execute_result"
    }
   ],
   "source": [
    "np.linalg.norm(B)"
   ]
  },
  {
   "cell_type": "markdown",
   "metadata": {},
   "source": [
    "## Vector Dot Product / Inner Product"
   ]
  },
  {
   "cell_type": "markdown",
   "metadata": {},
   "source": [
    "The inner product of a vector is the sum of the products of each elements of the vectors. So given vectors $H$ and $G$ below:\n",
    "$$H=\\begin{bmatrix}1\\\\3\\\\6\\end{bmatrix}, G = \\begin{bmatrix}5\\\\2\\\\1\\end{bmatrix}$$\n",
    "We first take the element-wise product of the vectors:\n",
    "$$H*G = \\begin{bmatrix}5\\\\6\\\\6\\end{bmatrix}$$\n",
    "Then we take the sum of the products, making it the inner product of a vector:\n",
    "$$H\\cdot G = 17$$\n",
    "You can solve for the inner product using an explicit function, `np.inner()` or the `@` operator."
   ]
  },
  {
   "cell_type": "code",
   "execution_count": 17,
   "metadata": {},
   "outputs": [],
   "source": [
    "H = np.array([1,3,6])\n",
    "G = np.array([5,2,1])"
   ]
  },
  {
   "cell_type": "code",
   "execution_count": 18,
   "metadata": {},
   "outputs": [
    {
     "data": {
      "text/plain": [
       "17"
      ]
     },
     "execution_count": 18,
     "metadata": {},
     "output_type": "execute_result"
    }
   ],
   "source": [
    "np.inner(H,G)"
   ]
  },
  {
   "cell_type": "code",
   "execution_count": 19,
   "metadata": {},
   "outputs": [
    {
     "data": {
      "text/plain": [
       "17"
      ]
     },
     "execution_count": 19,
     "metadata": {},
     "output_type": "execute_result"
    }
   ],
   "source": [
    "H @ G"
   ]
  },
  {
   "cell_type": "markdown",
   "metadata": {},
   "source": [
    "## Activity"
   ]
  },
  {
   "cell_type": "markdown",
   "metadata": {},
   "source": [
    "### Task 1"
   ]
  },
  {
   "cell_type": "markdown",
   "metadata": {},
   "source": [
    "Make an explicit function (not using any of NumPy's preset functions) solving the modulus of a vector using the Euclidian Norm formula: \n",
    "$$||X|| = \\sqrt{\\sum_{n=1}^{N}x_n^2}$$\n",
    "Create a program flowchart for your algorithm and explain it in your methodology. Create 6 different vectors which their element count should not be lower than 4 elements. Explain the results at the results discussion section while comparing them to the `np.linalg.norm()` function."
   ]
  },
  {
   "cell_type": "markdown",
   "metadata": {},
   "source": []
  },
  {
   "cell_type": "code",
   "execution_count": 20,
   "metadata": {},
   "outputs": [
    {
     "name": "stdout",
     "output_type": "stream",
     "text": [
      "The answer is: 30.95\n",
      "The answer is: 42.31\n",
      "The answer is: 42.46\n",
      "The answer is: 43.89\n",
      "The answer is: 41.74\n",
      "The answer is: 44.49\n"
     ]
    }
   ],
   "source": [
    "\n",
    "vect1 = [2,8,28,5,9]\n",
    "vect2 = [24,9,6,16,29]\n",
    "vect3 = [22,3,25,18,19]\n",
    "vect4 = [27,19,26,4,12]\n",
    "vect5 = [10,21,18,6,29]\n",
    "vect6 = [27,12,15,25,16]\n",
    "\n",
    "import math\n",
    "def vects(v):\n",
    "    return math.sqrt(v[0]**2 + v[1]**2 + v[2]**2 + v[3]**2 + v[4]**2)\n",
    "\n",
    "print('The answer is: {:.2f}'.format(vects(vect1)))\n",
    "print('The answer is: {:.2f}'.format(vects(vect2)))\n",
    "print('The answer is: {:.2f}'.format(vects(vect3)))\n",
    "print('The answer is: {:.2f}'.format(vects(vect4)))\n",
    "print('The answer is: {:.2f}'.format(vects(vect5)))\n",
    "print('The answer is: {:.2f}'.format(vects(vect6)))"
   ]
  },
  {
   "cell_type": "markdown",
   "metadata": {},
   "source": [
    "### Task 2"
   ]
  },
  {
   "cell_type": "markdown",
   "metadata": {},
   "source": [
    "Make an explicit function (not using any of NumPy's preset functions nor the `@` operator) solving the inner product of two vectors using the inner product formula: \n",
    "$$A\\cdot B = \\sum_{n=1}^{N} a_n \\times b_n $$\n",
    "$$whereas: N = len(A) = len(B)$$\n",
    "Create a program flowchart for your algorithm and explain it in your methodology. Create 5 distinct pairs vectors which their element count should not be lower than 5 elements. Explain the results at the results discussion section while comparing them to the `np.inner()` function."
   ]
  },
  {
   "cell_type": "code",
   "execution_count": 21,
   "metadata": {},
   "outputs": [
    {
     "name": "stdout",
     "output_type": "stream",
     "text": [
      "The answer is : 991\n",
      "The answer is : 130\n",
      "The answer is : 1180\n",
      "The answer is : 3230\n",
      "The answer is : 6246\n"
     ]
    }
   ],
   "source": [
    "vectA = [20,8,25,26,10]\n",
    "vectB = [5,13,23,2,16]\n",
    "vectC = [1,2,3,4,5]\n",
    "vectD = [6,7,8,9,10]\n",
    "vectE = [11,12,13,14,15]\n",
    "vectF = [16,17,18,19,20]\n",
    "vectG = [21,22,23,24,25]\n",
    "vectH = [26,27,28,29,30]\n",
    "vectI = [31,32,33,34,35]\n",
    "vectJ = [36,37,38,38,40]\n",
    "\n",
    "def dot(v1, v2):\n",
    "    return sum(x*y for x,y in zip(v1,v2))\n",
    "               \n",
    "print('The answer is : ' +str(dot(vectA,vectB)))\n",
    "print('The answer is : ' +str(dot(vectC,vectD)))\n",
    "print('The answer is : ' +str(dot(vectE,vectF)))\n",
    "print('The answer is : ' +str(dot(vectG,vectH)))\n",
    "print('The answer is : ' +str(dot(vectI,vectJ)))"
   ]
  },
  {
   "cell_type": "markdown",
   "metadata": {},
   "source": [
    "### Task 3"
   ]
  },
  {
   "cell_type": "markdown",
   "metadata": {},
   "source": [
    "Code the following vector operation and solve them using the given vector values"
   ]
  },
  {
   "cell_type": "markdown",
   "metadata": {},
   "source": [
    "$$ ((A^2 + B^2) \\cdot (A * (B + A*B)./C))*||A + B||$$\n",
    "$$A = \\begin{bmatrix}-0.4\\\\0.2\\\\-0.6\\end{bmatrix}, B = \\begin{bmatrix}-0.2\\\\0.2\\\\1\\end{bmatrix}, C = \\begin{bmatrix}0.2\\\\-0.1\\\\-0.5\\end{bmatrix}$$"
   ]
  },
  {
   "cell_type": "markdown",
   "metadata": {},
   "source": [
    "Create a program flowchart for your algorithm and explain it in your methodology. In your results, compare your answer to the expected output, visualize, and explain the resulting vector using a 3D plot."
   ]
  },
  {
   "cell_type": "code",
   "execution_count": 25,
   "metadata": {},
   "outputs": [
    {
     "name": "stdout",
     "output_type": "stream",
     "text": [
      "The array is [0.34769805 1.13001866 0.6953961 ]\n"
     ]
    }
   ],
   "source": [
    "A = np.array([-0.4,0.3,-0.6])\n",
    "B = np.array([-0.2,0.2,1])\n",
    "C = np.array([0.2,0.1,-0.5])\n",
    "a= A**2 + B**2\n",
    "b = (A)\n",
    "_answer = (A@A + B@B + C@C)\n",
    "_answer2 = (A*(B+A*B)/C)\n",
    "_answer3 = (np.linalg.norm(A+B+C))\n",
    "answer = _answer*_answer2*_answer3\n",
    "\n",
    "print(f'The array is {answer}')"
   ]
  },
  {
   "cell_type": "code",
   "execution_count": 23,
   "metadata": {},
   "outputs": [
    {
     "data": {
      "image/png": "[encoded data removed]",
      "text/plain": [
       "<Figure size 432x288 with 1 Axes>"
      ]
     },
     "metadata": {
      "needs_background": "light"
     },
     "output_type": "display_data"
    }
   ],
   "source": [
    "fig = plt.figure()\n",
    "ax = fig.gca(projection='3d')\n",
    "\n",
    "ax.quiver(0,0,0, answer[0], answer[1], answer[2], color='orange')\n",
    "ax.set_xlim([0, 3])\n",
    "ax.set_ylim([0, 3])\n",
    "ax.set_zlim([0, 3])\n",
    "plt.show()"
   ]
  },
  {
   "cell_type": "markdown",
   "metadata": {},
   "source": [
    "Expected answer: <br>\n",
    "`array([-0.55104, -0.47232,  0.47232])`"
   ]
  }
 ],
 "metadata": {
  "kernelspec": {
   "display_name": "Python 3",
   "language": "python",
   "name": "python3"
  },
  "language_info": {
   "codemirror_mode": {
    "name": "ipython",
    "version": 3
   },
   "file_extension": ".py",
   "mimetype": "text/x-python",
   "name": "python",
   "nbconvert_exporter": "python",
   "pygments_lexer": "ipython3",
   "version": "3.8.3"
  }
 },
 "nbformat": 4,
 "nbformat_minor": 4
}
